{
 "cells": [
  {
   "cell_type": "code",
   "execution_count": 1,
   "id": "4672ec91",
   "metadata": {},
   "outputs": [],
   "source": [
    "import requests\n",
    "from bs4 import BeautifulSoup as bs\n",
    "from IPython.core.display import HTML\n",
    "import pandas as pd\n",
    "import re"
   ]
  },
  {
   "cell_type": "code",
   "execution_count": 2,
   "id": "566ec781",
   "metadata": {},
   "outputs": [],
   "source": [
    "# URL of the page to scrape\n",
    "url = 'https://www.ea.com/games/ea-sports-fc/ratings?orderBy=rank&gender=0&query=gender%3D0%26orderBy%3Drank&page=1'\n",
    "\n",
    "# Make a request to fetch the HTML content of the page\n",
    "response = requests.get(url)"
   ]
  },
  {
   "cell_type": "code",
   "execution_count": null,
   "id": "b5fda339",
   "metadata": {
    "scrolled": true
   },
   "outputs": [
    {
     "name": "stdout",
     "output_type": "stream",
     "text": [
      "Processing page: 1\n",
      "Processing page: 2\n",
      "Processing page: 3\n",
      "Processing page: 4\n",
      "Processing page: 5\n",
      "Processing page: 6\n",
      "Processing page: 7\n",
      "Processing page: 8\n",
      "Processing page: 9\n",
      "Processing page: 10\n",
      "Processing page: 11\n",
      "Processing page: 12\n",
      "Processing page: 13\n",
      "Processing page: 14\n",
      "Processing page: 15\n",
      "Processing page: 16\n",
      "Processing page: 17\n",
      "Processing page: 18\n",
      "Processing page: 19\n",
      "Processing page: 20\n",
      "Processing page: 21\n",
      "Processing page: 22\n",
      "Processing page: 23\n",
      "Processing page: 24\n",
      "Processing page: 25\n",
      "Processing page: 26\n",
      "Processing page: 27\n",
      "Processing page: 28\n",
      "Processing page: 29\n",
      "Processing page: 30\n",
      "Processing page: 31\n",
      "Processing page: 32\n",
      "Processing page: 33\n",
      "Processing page: 34\n",
      "Processing page: 35\n",
      "Processing page: 36\n",
      "Processing page: 37\n",
      "Processing page: 38\n",
      "Processing page: 39\n",
      "Processing page: 40\n",
      "Processing page: 41\n",
      "Processing page: 42\n",
      "Processing page: 43\n",
      "Processing page: 44\n",
      "Processing page: 45\n",
      "Processing page: 46\n",
      "Processing page: 47\n",
      "Processing page: 48\n",
      "Processing page: 49\n",
      "Processing page: 50\n",
      "Processing page: 51\n",
      "Processing page: 52\n",
      "Processing page: 53\n",
      "Processing page: 54\n",
      "Processing page: 55\n",
      "Processing page: 56\n",
      "Processing page: 57\n",
      "Processing page: 58\n",
      "Processing page: 59\n",
      "Processing page: 60\n"
     ]
    }
   ],
   "source": [
    "# Base URL and page range\n",
    "base_url = \"https://www.ea.com/games/ea-sports-fc/ratings?orderBy=rank&gender=0&query=gender%3D0%26orderBy%3Drank&page=\"\n",
    "start_page = 1\n",
    "end_page = 174\n",
    "\n",
    "# Initialize empty lists for player stats and player info\n",
    "all_player_stats = []\n",
    "all_players = []\n",
    "\n",
    "# Loop through each page\n",
    "for page in range(start_page, end_page + 1):\n",
    "    url = f\"{base_url}{page}\"\n",
    "    response = requests.get(url)\n",
    "    print(f\"Processing page: {page}\")\n",
    "    \n",
    "    if response.status_code == 200:\n",
    "        soup = bs(response.content, 'html.parser')\n",
    "        \n",
    "        # Scrape the player stats table\n",
    "        table = soup.find('table', attrs={'class':'Table_table__dpnEU'})\n",
    "        if table:\n",
    "            current_page_stats = pd.read_html(str(table))[0]\n",
    "            all_player_stats.append(current_page_stats)\n",
    "        \n",
    "        # Scrape player IDs and names\n",
    "        player_links = soup.find_all('a', class_='Table_profileCellAnchor__L23hq')\n",
    "        for link in player_links:\n",
    "            href = link['href']\n",
    "            player_id = href.split('/')[-1]\n",
    "            player_name = link.text.strip()\n",
    "            all_players.append({'id': player_id, 'name': player_name})\n",
    "        \n",
    "    else:\n",
    "        print(f\"Failed to retrieve page {page}. Status code: {response.status_code}\")\n",
    "        break\n",
    "\n",
    "# Concatenate all DataFrames in the list into a single DataFrame for player stats\n",
    "final_player_stats_df = pd.concat(all_player_stats, ignore_index=True)\n",
    "\n",
    "# Convert the list of player info dictionaries to a DataFrame\n",
    "all_players_df = pd.DataFrame(all_players)\n",
    "\n",
    "# Display results\n",
    "print(f\"Total player stats collected: {len(final_player_stats_df)}\")\n",
    "print(f\"Total players collected: {len(all_players_df)}\")"
   ]
  },
  {
   "cell_type": "code",
   "execution_count": null,
   "id": "0286327c",
   "metadata": {},
   "outputs": [],
   "source": []
  },
  {
   "cell_type": "code",
   "execution_count": 14,
   "id": "b5da64bd",
   "metadata": {},
   "outputs": [],
   "source": [
    "all_players.to_csv('..\\ChatGPT\\player_key.csv')"
   ]
  },
  {
   "cell_type": "code",
   "execution_count": null,
   "id": "60cd5827",
   "metadata": {},
   "outputs": [],
   "source": []
  }
 ],
 "metadata": {
  "kernelspec": {
   "display_name": "Python 3 (ipykernel)",
   "language": "python",
   "name": "python3"
  },
  "language_info": {
   "codemirror_mode": {
    "name": "ipython",
    "version": 3
   },
   "file_extension": ".py",
   "mimetype": "text/x-python",
   "name": "python",
   "nbconvert_exporter": "python",
   "pygments_lexer": "ipython3",
   "version": "3.9.7"
  }
 },
 "nbformat": 4,
 "nbformat_minor": 5
}
